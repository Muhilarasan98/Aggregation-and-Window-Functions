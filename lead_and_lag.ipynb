{
 "cells": [
  {
   "cell_type": "code",
   "execution_count": 1,
   "id": "b4214a3b",
   "metadata": {},
   "outputs": [],
   "source": [
    "from pyspark.sql import SparkSession\n",
    "import getpass\n",
    "username = getpass.getuser()\n",
    "spark = SparkSession. \\\n",
    "builder. \\\n",
    "config(\"spark.sql.warehouse.dir\", f\"/user/{username}/warehouse\"). \\\n",
    "enableHiveSupport(). \\\n",
    "master('yarn'). \\\n",
    "getOrCreate()"
   ]
  },
  {
   "cell_type": "code",
   "execution_count": 2,
   "id": "7c9f516a",
   "metadata": {},
   "outputs": [],
   "source": [
    "orders_df = spark.read \\\n",
    ".format(\"csv\") \\\n",
    ".option(\"inferSchema\",\"true\") \\\n",
    ".option(\"header\",\"true\") \\\n",
    ".load(\"/public/trendytech/datasets/windowdatamodified.csv\")"
   ]
  },
  {
   "cell_type": "code",
   "execution_count": 6,
   "id": "a648ec66",
   "metadata": {},
   "outputs": [],
   "source": [
    "from pyspark.sql.functions import *"
   ]
  },
  {
   "cell_type": "code",
   "execution_count": 8,
   "id": "40c1d5d0",
   "metadata": {},
   "outputs": [],
   "source": [
    "from pyspark.sql import *"
   ]
  },
  {
   "cell_type": "code",
   "execution_count": 9,
   "id": "d409d872",
   "metadata": {},
   "outputs": [],
   "source": [
    "mywindow = Window.partitionBy(\"country\") \\\n",
    ".orderBy(desc(\"invoicevalue\"))"
   ]
  },
  {
   "cell_type": "code",
   "execution_count": 10,
   "id": "9892f6e0",
   "metadata": {},
   "outputs": [],
   "source": [
    "result_df = orders_df.withColumn(\"previous_week\",lag(\"invoicevalue\").over(mywindow))"
   ]
  },
  {
   "cell_type": "code",
   "execution_count": 11,
   "id": "d4366485",
   "metadata": {},
   "outputs": [
    {
     "name": "stdout",
     "output_type": "stream",
     "text": [
      "+-------+-------+-----------+-------------+------------+-------------+\n",
      "|country|weeknum|numinvoices|totalquantity|invoicevalue|previous_week|\n",
      "+-------+-------+-----------+-------------+------------+-------------+\n",
      "| Sweden|     50|          3|         3714|      2646.3|         null|\n",
      "|Germany|     49|         12|         1852|      1800.0|         null|\n",
      "|Germany|     50|         15|         1973|      1800.0|       1800.0|\n",
      "|Germany|     48|         11|         1795|      1600.0|       1800.0|\n",
      "|Germany|     51|          5|         1103|      1600.0|       1600.0|\n",
      "| France|     50|          6|          529|      537.32|         null|\n",
      "| France|     51|          5|          847|       500.0|       537.32|\n",
      "| France|     49|          9|         2303|       500.0|        500.0|\n",
      "| France|     48|          4|         1299|       500.0|        500.0|\n",
      "|Belgium|     48|          1|          528|       800.0|         null|\n",
      "|Belgium|     51|          2|          942|       800.0|        800.0|\n",
      "|Belgium|     50|          2|          285|      625.16|        800.0|\n",
      "|Finland|     50|          1|         1254|       892.8|         null|\n",
      "|  India|     49|          5|         1280|      3284.1|         null|\n",
      "|  India|     50|          5|         1184|     2321.78|       3284.1|\n",
      "|  India|     51|          5|           95|       300.0|      2321.78|\n",
      "|  India|     48|          7|         2822|       300.0|        300.0|\n",
      "|  Italy|     48|          1|          164|       427.8|         null|\n",
      "|  Italy|     51|          1|          131|       383.7|        427.8|\n",
      "|  Italy|     49|          1|           -2|       -17.0|        383.7|\n",
      "+-------+-------+-----------+-------------+------------+-------------+\n",
      "only showing top 20 rows\n",
      "\n"
     ]
    }
   ],
   "source": [
    "result_df.show()"
   ]
  },
  {
   "cell_type": "code",
   "execution_count": 14,
   "id": "d592d743",
   "metadata": {},
   "outputs": [],
   "source": [
    "final_df = result_df.withColumn(\"invoice_difference\",expr(\"invoicevalue - previous_week\"))"
   ]
  },
  {
   "cell_type": "code",
   "execution_count": 15,
   "id": "b627158c",
   "metadata": {},
   "outputs": [
    {
     "name": "stdout",
     "output_type": "stream",
     "text": [
      "+-------+-------+-----------+-------------+------------+-------------+-------------------+\n",
      "|country|weeknum|numinvoices|totalquantity|invoicevalue|previous_week| invoice_difference|\n",
      "+-------+-------+-----------+-------------+------------+-------------+-------------------+\n",
      "| Sweden|     50|          3|         3714|      2646.3|         null|               null|\n",
      "|Germany|     49|         12|         1852|      1800.0|         null|               null|\n",
      "|Germany|     50|         15|         1973|      1800.0|       1800.0|                0.0|\n",
      "|Germany|     48|         11|         1795|      1600.0|       1800.0|             -200.0|\n",
      "|Germany|     51|          5|         1103|      1600.0|       1600.0|                0.0|\n",
      "| France|     50|          6|          529|      537.32|         null|               null|\n",
      "| France|     51|          5|          847|       500.0|       537.32| -37.32000000000005|\n",
      "| France|     49|          9|         2303|       500.0|        500.0|                0.0|\n",
      "| France|     48|          4|         1299|       500.0|        500.0|                0.0|\n",
      "|Belgium|     48|          1|          528|       800.0|         null|               null|\n",
      "|Belgium|     51|          2|          942|       800.0|        800.0|                0.0|\n",
      "|Belgium|     50|          2|          285|      625.16|        800.0|-174.84000000000003|\n",
      "|Finland|     50|          1|         1254|       892.8|         null|               null|\n",
      "|  India|     49|          5|         1280|      3284.1|         null|               null|\n",
      "|  India|     50|          5|         1184|     2321.78|       3284.1| -962.3199999999997|\n",
      "|  India|     51|          5|           95|       300.0|      2321.78|-2021.7800000000002|\n",
      "|  India|     48|          7|         2822|       300.0|        300.0|                0.0|\n",
      "|  Italy|     48|          1|          164|       427.8|         null|               null|\n",
      "|  Italy|     51|          1|          131|       383.7|        427.8| -44.10000000000002|\n",
      "|  Italy|     49|          1|           -2|       -17.0|        383.7|             -400.7|\n",
      "+-------+-------+-----------+-------------+------------+-------------+-------------------+\n",
      "only showing top 20 rows\n",
      "\n"
     ]
    }
   ],
   "source": [
    "final_df.show()"
   ]
  },
  {
   "cell_type": "code",
   "execution_count": 16,
   "id": "17d9e462",
   "metadata": {},
   "outputs": [],
   "source": [
    "mywindow = Window.partitionBy(\"country\")"
   ]
  },
  {
   "cell_type": "code",
   "execution_count": 19,
   "id": "3e898628",
   "metadata": {},
   "outputs": [],
   "source": [
    "result = orders_df.withColumn(\"total_invoice_value\",sum(\"invoicevalue\").over(mywindow))"
   ]
  },
  {
   "cell_type": "code",
   "execution_count": 20,
   "id": "756979b2",
   "metadata": {},
   "outputs": [
    {
     "name": "stdout",
     "output_type": "stream",
     "text": [
      "+-------+-------+-----------+-------------+------------+-------------------+\n",
      "|country|weeknum|numinvoices|totalquantity|invoicevalue|total_invoice_value|\n",
      "+-------+-------+-----------+-------------+------------+-------------------+\n",
      "| Sweden|     50|          3|         3714|      2646.3|             2646.3|\n",
      "|Germany|     48|         11|         1795|      1600.0|             6800.0|\n",
      "|Germany|     49|         12|         1852|      1800.0|             6800.0|\n",
      "|Germany|     50|         15|         1973|      1800.0|             6800.0|\n",
      "|Germany|     51|          5|         1103|      1600.0|             6800.0|\n",
      "| France|     51|          5|          847|       500.0| 2037.3200000000002|\n",
      "| France|     49|          9|         2303|       500.0| 2037.3200000000002|\n",
      "| France|     48|          4|         1299|       500.0| 2037.3200000000002|\n",
      "| France|     50|          6|          529|      537.32| 2037.3200000000002|\n",
      "|Belgium|     48|          1|          528|       800.0|            2225.16|\n",
      "|Belgium|     50|          2|          285|      625.16|            2225.16|\n",
      "|Belgium|     51|          2|          942|       800.0|            2225.16|\n",
      "|Finland|     50|          1|         1254|       892.8|              892.8|\n",
      "|  India|     51|          5|           95|       300.0|            6205.88|\n",
      "|  India|     49|          5|         1280|      3284.1|            6205.88|\n",
      "|  India|     48|          7|         2822|       300.0|            6205.88|\n",
      "|  India|     50|          5|         1184|     2321.78|            6205.88|\n",
      "|  Italy|     49|          1|           -2|       -17.0|              794.5|\n",
      "|  Italy|     51|          1|          131|       383.7|              794.5|\n",
      "|  Italy|     48|          1|          164|       427.8|              794.5|\n",
      "+-------+-------+-----------+-------------+------------+-------------------+\n",
      "only showing top 20 rows\n",
      "\n"
     ]
    }
   ],
   "source": [
    "result.show()"
   ]
  },
  {
   "cell_type": "code",
   "execution_count": null,
   "id": "435186ee",
   "metadata": {},
   "outputs": [],
   "source": []
  }
 ],
 "metadata": {
  "kernelspec": {
   "display_name": "Pyspark 3",
   "language": "python",
   "name": "pyspark3"
  },
  "language_info": {
   "codemirror_mode": {
    "name": "ipython",
    "version": 3
   },
   "file_extension": ".py",
   "mimetype": "text/x-python",
   "name": "python",
   "nbconvert_exporter": "python",
   "pygments_lexer": "ipython3",
   "version": "3.6.12"
  }
 },
 "nbformat": 4,
 "nbformat_minor": 5
}
