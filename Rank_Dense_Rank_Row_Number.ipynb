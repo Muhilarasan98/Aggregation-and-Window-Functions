{
 "cells": [
  {
   "cell_type": "code",
   "execution_count": 23,
   "id": "bb2b3f47",
   "metadata": {},
   "outputs": [],
   "source": [
    "from pyspark.sql import SparkSession\n",
    "import getpass\n",
    "username = getpass.getuser()\n",
    "spark = SparkSession. \\\n",
    "builder. \\\n",
    "config(\"spark.sql.warehouse.dir\", f\"/user/{username}/warehouse\"). \\\n",
    "enableHiveSupport(). \\\n",
    "master('yarn'). \\\n",
    "getOrCreate()"
   ]
  },
  {
   "cell_type": "markdown",
   "id": "50d9820c",
   "metadata": {},
   "source": [
    "Window functions\n",
    "\n",
    "rank\n",
    "\n",
    "dense_rank\n",
    "\n",
    "row_number\n",
    "\n",
    "lead\n",
    "\n",
    "lag\n",
    "\n",
    "\n",
    "Rank and Dense Rank understanding and row_numbber \n",
    "\n",
    "ankur  - 100 rank 1 -   denserank -1   row_number(1)\n",
    " \n",
    "sathish - 100 rank -1 - denserank -1   row_number(2)\n",
    "\n",
    "Kapil - 100 rank -1     denserank -1   row_number(2)\n",
    "\n",
    "kaushik - 99 rank - 4   dense rank 2   row_number(2)\n",
    "\n",
    "ram -99 rank - 4        dense rank 2   row_number(2)\n",
    "\n",
    "fiza - 90 - 6           desne rank 3   row_number(2)\n",
    "\n",
    "rank skips and dense rank doesn't skip anything"
   ]
  },
  {
   "cell_type": "code",
   "execution_count": 24,
   "id": "477d306d",
   "metadata": {},
   "outputs": [],
   "source": [
    "orders_df = spark.read \\\n",
    ".format(\"csv\") \\\n",
    ".option(\"inferSchema\",\"true\") \\\n",
    ".option(\"header\",\"true\") \\\n",
    ".load(\"/public/trendytech/datasets/windowdatamodified.csv\")\n",
    "    "
   ]
  },
  {
   "cell_type": "code",
   "execution_count": 25,
   "id": "c00cae4b",
   "metadata": {},
   "outputs": [
    {
     "name": "stdout",
     "output_type": "stream",
     "text": [
      "+--------------+-------+-----------+-------------+------------+\n",
      "|       country|weeknum|numinvoices|totalquantity|invoicevalue|\n",
      "+--------------+-------+-----------+-------------+------------+\n",
      "|         Spain|     49|          1|           67|      174.72|\n",
      "|       Germany|     48|         11|         1795|      1600.0|\n",
      "|     Lithuania|     48|          3|          622|     1598.06|\n",
      "|       Germany|     49|         12|         1852|      1800.0|\n",
      "|       Bahrain|     51|          1|           54|      205.74|\n",
      "|       Iceland|     49|          1|          319|      711.79|\n",
      "|         India|     51|          5|           95|       300.0|\n",
      "|     Australia|     50|          2|          133|      387.95|\n",
      "|         Italy|     49|          1|           -2|       -17.0|\n",
      "|         India|     49|          5|         1280|      3284.1|\n",
      "|         Spain|     50|          2|          400|     1049.01|\n",
      "|United Kingdom|     51|        200|        28782|    75103.46|\n",
      "|        Norway|     49|          1|         1730|     1867.98|\n",
      "|United Kingdom|     48|        478|        68865|   166116.72|\n",
      "|        France|     51|          5|          847|       500.0|\n",
      "|      Portugal|     49|          4|          726|     1844.67|\n",
      "|         Spain|     48|          1|          400|       620.0|\n",
      "|         India|     48|          7|         2822|       300.0|\n",
      "|       Germany|     50|         15|         1973|      1800.0|\n",
      "|         Italy|     51|          1|          131|       383.7|\n",
      "+--------------+-------+-----------+-------------+------------+\n",
      "only showing top 20 rows\n",
      "\n"
     ]
    }
   ],
   "source": [
    "orders_df.show()"
   ]
  },
  {
   "cell_type": "code",
   "execution_count": 26,
   "id": "1eb4ff7e",
   "metadata": {},
   "outputs": [
    {
     "data": {
      "text/html": [
       "<table border='1'>\n",
       "<tr><th>country</th><th>weeknum</th><th>numinvoices</th><th>totalquantity</th><th>invoicevalue</th></tr>\n",
       "<tr><td>Australia</td><td>48</td><td>1</td><td>107</td><td>358.25</td></tr>\n",
       "<tr><td>Australia</td><td>49</td><td>1</td><td>214</td><td>258.9</td></tr>\n",
       "<tr><td>Australia</td><td>50</td><td>2</td><td>133</td><td>387.95</td></tr>\n",
       "<tr><td>Austria</td><td>50</td><td>2</td><td>3</td><td>257.04</td></tr>\n",
       "<tr><td>Bahrain</td><td>51</td><td>1</td><td>54</td><td>205.74</td></tr>\n",
       "<tr><td>Belgium</td><td>48</td><td>1</td><td>528</td><td>800.0</td></tr>\n",
       "<tr><td>Belgium</td><td>50</td><td>2</td><td>285</td><td>625.16</td></tr>\n",
       "<tr><td>Belgium</td><td>51</td><td>2</td><td>942</td><td>800.0</td></tr>\n",
       "<tr><td>Channel Islands</td><td>49</td><td>1</td><td>80</td><td>363.53</td></tr>\n",
       "<tr><td>Cyprus</td><td>50</td><td>1</td><td>917</td><td>1590.82</td></tr>\n",
       "<tr><td>Denmark</td><td>49</td><td>1</td><td>454</td><td>1281.5</td></tr>\n",
       "<tr><td>Finland</td><td>50</td><td>1</td><td>1254</td><td>892.8</td></tr>\n",
       "<tr><td>France</td><td>48</td><td>4</td><td>1299</td><td>500.0</td></tr>\n",
       "<tr><td>France</td><td>51</td><td>5</td><td>847</td><td>500.0</td></tr>\n",
       "<tr><td>France</td><td>50</td><td>6</td><td>529</td><td>537.32</td></tr>\n",
       "<tr><td>France</td><td>49</td><td>9</td><td>2303</td><td>500.0</td></tr>\n",
       "<tr><td>Germany</td><td>51</td><td>5</td><td>1103</td><td>1600.0</td></tr>\n",
       "<tr><td>Germany</td><td>48</td><td>11</td><td>1795</td><td>1600.0</td></tr>\n",
       "<tr><td>Germany</td><td>49</td><td>12</td><td>1852</td><td>1800.0</td></tr>\n",
       "<tr><td>Germany</td><td>50</td><td>15</td><td>1973</td><td>1800.0</td></tr>\n",
       "</table>\n",
       "only showing top 20 rows\n"
      ],
      "text/plain": [
       "+---------------+-------+-----------+-------------+------------+\n",
       "|        country|weeknum|numinvoices|totalquantity|invoicevalue|\n",
       "+---------------+-------+-----------+-------------+------------+\n",
       "|      Australia|     48|          1|          107|      358.25|\n",
       "|      Australia|     49|          1|          214|       258.9|\n",
       "|      Australia|     50|          2|          133|      387.95|\n",
       "|        Austria|     50|          2|            3|      257.04|\n",
       "|        Bahrain|     51|          1|           54|      205.74|\n",
       "|        Belgium|     48|          1|          528|       800.0|\n",
       "|        Belgium|     50|          2|          285|      625.16|\n",
       "|        Belgium|     51|          2|          942|       800.0|\n",
       "|Channel Islands|     49|          1|           80|      363.53|\n",
       "|         Cyprus|     50|          1|          917|     1590.82|\n",
       "|        Denmark|     49|          1|          454|      1281.5|\n",
       "|        Finland|     50|          1|         1254|       892.8|\n",
       "|         France|     48|          4|         1299|       500.0|\n",
       "|         France|     51|          5|          847|       500.0|\n",
       "|         France|     50|          6|          529|      537.32|\n",
       "|         France|     49|          9|         2303|       500.0|\n",
       "|        Germany|     51|          5|         1103|      1600.0|\n",
       "|        Germany|     48|         11|         1795|      1600.0|\n",
       "|        Germany|     49|         12|         1852|      1800.0|\n",
       "|        Germany|     50|         15|         1973|      1800.0|\n",
       "+---------------+-------+-----------+-------------+------------+\n",
       "only showing top 20 rows"
      ]
     },
     "execution_count": 26,
     "metadata": {},
     "output_type": "execute_result"
    }
   ],
   "source": [
    "orders_df.orderBy(\"country\",\"numinvoices\")"
   ]
  },
  {
   "cell_type": "code",
   "execution_count": 27,
   "id": "6d78b5f0",
   "metadata": {},
   "outputs": [],
   "source": [
    "from pyspark.sql import *"
   ]
  },
  {
   "cell_type": "code",
   "execution_count": 28,
   "id": "ab7b1e90",
   "metadata": {},
   "outputs": [],
   "source": [
    "from pyspark.sql.functions import *"
   ]
  },
  {
   "cell_type": "code",
   "execution_count": 29,
   "id": "0601e5e5",
   "metadata": {},
   "outputs": [],
   "source": [
    "mywindow = Window.partitionBy(\"country\") \\\n",
    ".orderBy(\"weeknum\") \\\n",
    ".rowsBetween(Window.unboundedPreceding,Window.currentRow)"
   ]
  },
  {
   "cell_type": "code",
   "execution_count": 30,
   "id": "4494c972",
   "metadata": {},
   "outputs": [],
   "source": [
    "result_df = orders_df.withColumn(\"running_total\",sum(\"invoicevalue\").over(mywindow))"
   ]
  },
  {
   "cell_type": "code",
   "execution_count": 31,
   "id": "d1b08fc8",
   "metadata": {},
   "outputs": [
    {
     "name": "stdout",
     "output_type": "stream",
     "text": [
      "+-------+-------+-----------+-------------+------------+------------------+\n",
      "|country|weeknum|numinvoices|totalquantity|invoicevalue|     running_total|\n",
      "+-------+-------+-----------+-------------+------------+------------------+\n",
      "| Sweden|     50|          3|         3714|      2646.3|            2646.3|\n",
      "|Germany|     48|         11|         1795|      1600.0|            1600.0|\n",
      "|Germany|     49|         12|         1852|      1800.0|            3400.0|\n",
      "|Germany|     50|         15|         1973|      1800.0|            5200.0|\n",
      "|Germany|     51|          5|         1103|      1600.0|            6800.0|\n",
      "| France|     48|          4|         1299|       500.0|             500.0|\n",
      "| France|     49|          9|         2303|       500.0|            1000.0|\n",
      "| France|     50|          6|          529|      537.32|1537.3200000000002|\n",
      "| France|     51|          5|          847|       500.0|2037.3200000000002|\n",
      "|Belgium|     48|          1|          528|       800.0|             800.0|\n",
      "|Belgium|     50|          2|          285|      625.16|1425.1599999999999|\n",
      "|Belgium|     51|          2|          942|       800.0|           2225.16|\n",
      "|Finland|     50|          1|         1254|       892.8|             892.8|\n",
      "|  India|     48|          7|         2822|       300.0|             300.0|\n",
      "|  India|     49|          5|         1280|      3284.1|            3584.1|\n",
      "|  India|     50|          5|         1184|     2321.78|           5905.88|\n",
      "|  India|     51|          5|           95|       300.0|           6205.88|\n",
      "|  Italy|     48|          1|          164|       427.8|             427.8|\n",
      "|  Italy|     49|          1|           -2|       -17.0|             410.8|\n",
      "|  Italy|     51|          1|          131|       383.7|             794.5|\n",
      "+-------+-------+-----------+-------------+------------+------------------+\n",
      "only showing top 20 rows\n",
      "\n"
     ]
    }
   ],
   "source": [
    "result_df.show()"
   ]
  },
  {
   "cell_type": "code",
   "execution_count": 32,
   "id": "02f67439",
   "metadata": {},
   "outputs": [],
   "source": [
    "mywindow = Window.partitionBy(\"country\") \\\n",
    ".orderBy(desc(\"invoicevalue\"))"
   ]
  },
  {
   "cell_type": "code",
   "execution_count": 33,
   "id": "116947bd",
   "metadata": {},
   "outputs": [],
   "source": [
    "result_df = orders_df.withColumn(\"rank\",rank().over(mywindow))"
   ]
  },
  {
   "cell_type": "code",
   "execution_count": 34,
   "id": "78598ff8",
   "metadata": {},
   "outputs": [
    {
     "name": "stdout",
     "output_type": "stream",
     "text": [
      "+-------+-------+-----------+-------------+------------+----+\n",
      "|country|weeknum|numinvoices|totalquantity|invoicevalue|rank|\n",
      "+-------+-------+-----------+-------------+------------+----+\n",
      "| Sweden|     50|          3|         3714|      2646.3|   1|\n",
      "|Germany|     49|         12|         1852|      1800.0|   1|\n",
      "|Germany|     50|         15|         1973|      1800.0|   1|\n",
      "|Germany|     48|         11|         1795|      1600.0|   3|\n",
      "|Germany|     51|          5|         1103|      1600.0|   3|\n",
      "| France|     50|          6|          529|      537.32|   1|\n",
      "| France|     51|          5|          847|       500.0|   2|\n",
      "| France|     49|          9|         2303|       500.0|   2|\n",
      "| France|     48|          4|         1299|       500.0|   2|\n",
      "|Belgium|     48|          1|          528|       800.0|   1|\n",
      "|Belgium|     51|          2|          942|       800.0|   1|\n",
      "|Belgium|     50|          2|          285|      625.16|   3|\n",
      "|Finland|     50|          1|         1254|       892.8|   1|\n",
      "|  India|     49|          5|         1280|      3284.1|   1|\n",
      "|  India|     50|          5|         1184|     2321.78|   2|\n",
      "|  India|     51|          5|           95|       300.0|   3|\n",
      "|  India|     48|          7|         2822|       300.0|   3|\n",
      "|  Italy|     48|          1|          164|       427.8|   1|\n",
      "|  Italy|     51|          1|          131|       383.7|   2|\n",
      "|  Italy|     49|          1|           -2|       -17.0|   3|\n",
      "+-------+-------+-----------+-------------+------------+----+\n",
      "only showing top 20 rows\n",
      "\n"
     ]
    }
   ],
   "source": [
    "result_df.show()"
   ]
  },
  {
   "cell_type": "code",
   "execution_count": 35,
   "id": "37f2d46f",
   "metadata": {},
   "outputs": [],
   "source": [
    "result_df = orders_df.withColumn(\"rank\",row_number().over(mywindow))"
   ]
  },
  {
   "cell_type": "code",
   "execution_count": 36,
   "id": "a8c96b86",
   "metadata": {},
   "outputs": [
    {
     "name": "stdout",
     "output_type": "stream",
     "text": [
      "+-------+-------+-----------+-------------+------------+----+\n",
      "|country|weeknum|numinvoices|totalquantity|invoicevalue|rank|\n",
      "+-------+-------+-----------+-------------+------------+----+\n",
      "| Sweden|     50|          3|         3714|      2646.3|   1|\n",
      "|Germany|     49|         12|         1852|      1800.0|   1|\n",
      "|Germany|     50|         15|         1973|      1800.0|   2|\n",
      "|Germany|     48|         11|         1795|      1600.0|   3|\n",
      "|Germany|     51|          5|         1103|      1600.0|   4|\n",
      "| France|     50|          6|          529|      537.32|   1|\n",
      "| France|     51|          5|          847|       500.0|   2|\n",
      "| France|     49|          9|         2303|       500.0|   3|\n",
      "| France|     48|          4|         1299|       500.0|   4|\n",
      "|Belgium|     48|          1|          528|       800.0|   1|\n",
      "|Belgium|     51|          2|          942|       800.0|   2|\n",
      "|Belgium|     50|          2|          285|      625.16|   3|\n",
      "|Finland|     50|          1|         1254|       892.8|   1|\n",
      "|  India|     49|          5|         1280|      3284.1|   1|\n",
      "|  India|     50|          5|         1184|     2321.78|   2|\n",
      "|  India|     51|          5|           95|       300.0|   3|\n",
      "|  India|     48|          7|         2822|       300.0|   4|\n",
      "|  Italy|     48|          1|          164|       427.8|   1|\n",
      "|  Italy|     51|          1|          131|       383.7|   2|\n",
      "|  Italy|     49|          1|           -2|       -17.0|   3|\n",
      "+-------+-------+-----------+-------------+------------+----+\n",
      "only showing top 20 rows\n",
      "\n"
     ]
    }
   ],
   "source": [
    "result_df.show()"
   ]
  },
  {
   "cell_type": "code",
   "execution_count": 39,
   "id": "ce85592e",
   "metadata": {},
   "outputs": [
    {
     "name": "stdout",
     "output_type": "stream",
     "text": [
      "+---------+-------+-----------+-------------+------------+----+\n",
      "|  country|weeknum|numinvoices|totalquantity|invoicevalue|rank|\n",
      "+---------+-------+-----------+-------------+------------+----+\n",
      "|   Sweden|     50|          3|         3714|      2646.3|   1|\n",
      "|  Germany|     49|         12|         1852|      1800.0|   1|\n",
      "|  Germany|     50|         15|         1973|      1800.0|   2|\n",
      "|  Germany|     48|         11|         1795|      1600.0|   3|\n",
      "|   France|     50|          6|          529|      537.32|   1|\n",
      "|   France|     51|          5|          847|       500.0|   2|\n",
      "|   France|     49|          9|         2303|       500.0|   3|\n",
      "|  Belgium|     48|          1|          528|       800.0|   1|\n",
      "|  Belgium|     51|          2|          942|       800.0|   2|\n",
      "|  Belgium|     50|          2|          285|      625.16|   3|\n",
      "|  Finland|     50|          1|         1254|       892.8|   1|\n",
      "|    India|     49|          5|         1280|      3284.1|   1|\n",
      "|    India|     50|          5|         1184|     2321.78|   2|\n",
      "|    India|     51|          5|           95|       300.0|   3|\n",
      "|    Italy|     48|          1|          164|       427.8|   1|\n",
      "|    Italy|     51|          1|          131|       383.7|   2|\n",
      "|    Italy|     49|          1|           -2|       -17.0|   3|\n",
      "|Lithuania|     48|          3|          622|     1598.06|   1|\n",
      "|Lithuania|     49|          1|           30|        63.0|   2|\n",
      "|   Norway|     48|          1|         1852|     1919.14|   1|\n",
      "+---------+-------+-----------+-------------+------------+----+\n",
      "only showing top 20 rows\n",
      "\n"
     ]
    }
   ],
   "source": [
    "result_df.select(\"*\").where(\"rank < 4\").show()"
   ]
  },
  {
   "cell_type": "code",
   "execution_count": 40,
   "id": "41c7d646",
   "metadata": {},
   "outputs": [
    {
     "name": "stdout",
     "output_type": "stream",
     "text": [
      "+---------------+-------+-----------+-------------+------------+\n",
      "|        country|weeknum|numinvoices|totalquantity|invoicevalue|\n",
      "+---------------+-------+-----------+-------------+------------+\n",
      "|         Sweden|     50|          3|         3714|      2646.3|\n",
      "|        Germany|     49|         12|         1852|      1800.0|\n",
      "|         France|     50|          6|          529|      537.32|\n",
      "|        Belgium|     48|          1|          528|       800.0|\n",
      "|        Finland|     50|          1|         1254|       892.8|\n",
      "|          India|     49|          5|         1280|      3284.1|\n",
      "|          Italy|     48|          1|          164|       427.8|\n",
      "|      Lithuania|     48|          3|          622|     1598.06|\n",
      "|         Norway|     48|          1|         1852|     1919.14|\n",
      "|          Spain|     50|          2|          400|     1049.01|\n",
      "|        Denmark|     49|          1|          454|      1281.5|\n",
      "|        Iceland|     49|          1|          319|      711.79|\n",
      "|         Israel|     50|          1|          -56|     -227.44|\n",
      "|Channel Islands|     49|          1|           80|      363.53|\n",
      "|         Cyprus|     50|          1|          917|     1590.82|\n",
      "|    Switzerland|     51|          1|          604|     1001.52|\n",
      "|          Japan|     49|          2|         3897|     7384.99|\n",
      "|         Poland|     48|          1|          140|      248.16|\n",
      "|       Portugal|     49|          4|          726|     1844.67|\n",
      "|      Australia|     50|          2|          133|      387.95|\n",
      "+---------------+-------+-----------+-------------+------------+\n",
      "only showing top 20 rows\n",
      "\n"
     ]
    }
   ],
   "source": [
    "result_df.select(\"*\").where(\"rank == 1\").drop(\"rank\").show()"
   ]
  },
  {
   "cell_type": "code",
   "execution_count": null,
   "id": "72a32cb0",
   "metadata": {},
   "outputs": [],
   "source": []
  },
  {
   "cell_type": "code",
   "execution_count": 18,
   "id": "801990d8",
   "metadata": {},
   "outputs": [],
   "source": [
    "spark.stop()"
   ]
  },
  {
   "cell_type": "code",
   "execution_count": null,
   "id": "be56bac1",
   "metadata": {},
   "outputs": [],
   "source": []
  }
 ],
 "metadata": {
  "kernelspec": {
   "display_name": "Pyspark 3",
   "language": "python",
   "name": "pyspark3"
  },
  "language_info": {
   "codemirror_mode": {
    "name": "ipython",
    "version": 3
   },
   "file_extension": ".py",
   "mimetype": "text/x-python",
   "name": "python",
   "nbconvert_exporter": "python",
   "pygments_lexer": "ipython3",
   "version": "3.6.12"
  }
 },
 "nbformat": 4,
 "nbformat_minor": 5
}
