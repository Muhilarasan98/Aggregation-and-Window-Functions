{
 "cells": [
  {
   "cell_type": "code",
   "execution_count": 32,
   "id": "14b0fa16",
   "metadata": {},
   "outputs": [],
   "source": [
    "from pyspark.sql import SparkSession\n",
    "import getpass\n",
    "username = getpass.getuser()\n",
    "spark = SparkSession. \\\n",
    "builder. \\\n",
    "config(\"spark.sql.warehouse.dir\", f\"/user/{username}/warehouse\"). \\\n",
    "enableHiveSupport(). \\\n",
    "master('yarn'). \\\n",
    "getOrCreate()"
   ]
  },
  {
   "cell_type": "code",
   "execution_count": 33,
   "id": "1e6b2050",
   "metadata": {},
   "outputs": [],
   "source": [
    "orders_df = spark.read \\\n",
    ".format(\"csv\") \\\n",
    ".option(\"inferSchema\",\"true\") \\\n",
    ".option(\"header\",\"true\") \\\n",
    ".load(\"/public/trendytech/datasets/order_data.csv\")"
   ]
  },
  {
   "cell_type": "code",
   "execution_count": 34,
   "id": "4a9ea8a4",
   "metadata": {},
   "outputs": [
    {
     "name": "stdout",
     "output_type": "stream",
     "text": [
      "+---------+---------+--------------------+--------+---------------+---------+----------+--------------+\n",
      "|InvoiceNo|StockCode|         Description|Quantity|    InvoiceDate|UnitPrice|CustomerID|       Country|\n",
      "+---------+---------+--------------------+--------+---------------+---------+----------+--------------+\n",
      "|   536378|     null|PACK OF 60 DINOSA...|      24|01-12-2010 9.37|     0.55|     14688|United Kingdom|\n",
      "|   536378|     null|PACK OF 60 PINK P...|      24|01-12-2010 9.37|     0.55|     14688|United Kingdom|\n",
      "|   536378|    84991|60 TEATIME FAIRY ...|      24|01-12-2010 9.37|     0.55|     14688|United Kingdom|\n",
      "|   536378|   84519A|TOMATO CHARLIE+LO...|       6|01-12-2010 9.37|     2.95|     14688|United Kingdom|\n",
      "|   536378|   85183B|CHARLIE & LOLA WA...|      48|01-12-2010 9.37|     1.25|     14688|United Kingdom|\n",
      "|   536378|   85071B|RED CHARLIE+LOLA ...|      96|01-12-2010 9.37|     0.38|     14688|United Kingdom|\n",
      "|   536378|    21931|JUMBO STORAGE BAG...|      10|01-12-2010 9.37|     1.95|     14688|United Kingdom|\n",
      "|   536378|    21929|JUMBO BAG PINK VI...|      10|01-12-2010 9.37|     1.95|     14688|United Kingdom|\n",
      "|   536380|    22961|JAM MAKING SET PR...|      24|01-12-2010 9.41|     1.45|     17809|United Kingdom|\n",
      "|   536381|    22139|RETROSPOT TEA SET...|      23|01-12-2010 9.41|     4.25|     15311|United Kingdom|\n",
      "|   536381|    84854| GIRLY PINK TOOL SET|       5|01-12-2010 9.41|     4.95|     15311|United Kingdom|\n",
      "|   536381|    22411|JUMBO SHOPPER VIN...|      10|01-12-2010 9.41|     1.95|     15311|United Kingdom|\n",
      "|   536381|    82567|AIRLINE LOUNGE,ME...|       2|01-12-2010 9.41|      2.1|     15311|United Kingdom|\n",
      "|   536381|    21672|WHITE SPOT RED CE...|       6|01-12-2010 9.41|     1.25|     15311|United Kingdom|\n",
      "|   536381|    22774|RED DRAWER KNOB A...|      24|01-12-2010 9.41|     1.25|     15311|United Kingdom|\n",
      "|   536381|    22771|CLEAR DRAWER KNOB...|      24|01-12-2010 9.41|     1.25|     15311|United Kingdom|\n",
      "|   536381|    71270|     PHOTO CLIP LINE|       1|01-12-2010 9.41|     1.25|     15311|United Kingdom|\n",
      "|   536381|    22262|FELT EGG COSY CHI...|       1|01-12-2010 9.41|     0.85|     15311|United Kingdom|\n",
      "|   536381|    22637|PIGGY BANK RETROS...|       1|01-12-2010 9.41|     2.55|     15311|United Kingdom|\n",
      "|   536381|    21934|  SKULL SHOULDER BAG|      10|01-12-2010 9.41|     1.65|     15311|United Kingdom|\n",
      "+---------+---------+--------------------+--------+---------------+---------+----------+--------------+\n",
      "only showing top 20 rows\n",
      "\n"
     ]
    }
   ],
   "source": [
    "orders_df.show()"
   ]
  },
  {
   "cell_type": "code",
   "execution_count": 35,
   "id": "2b33f844",
   "metadata": {},
   "outputs": [],
   "source": [
    "from pyspark.sql.functions import *"
   ]
  },
  {
   "cell_type": "code",
   "execution_count": 36,
   "id": "6fde40d3",
   "metadata": {},
   "outputs": [],
   "source": [
    "## programmatic approach\n",
    "summary_df = orders_df.groupBy(\"country\",\"InvoiceNo\") \\\n",
    ".agg(sum(\"quantity\").alias(\"total_quantity\"),sum(expr(\"quantity * unitprice\")).alias(\"invoice_value\")).sort(\"InvoiceNo\")"
   ]
  },
  {
   "cell_type": "code",
   "execution_count": 37,
   "id": "7bfc98db",
   "metadata": {},
   "outputs": [
    {
     "data": {
      "text/html": [
       "<table border='1'>\n",
       "<tr><th>country</th><th>InvoiceNo</th><th>total_quantity</th><th>invoice_value</th></tr>\n",
       "<tr><td>United Kingdom</td><td>536378</td><td>242</td><td>192.78000000000003</td></tr>\n",
       "<tr><td>United Kingdom</td><td>536380</td><td>24</td><td>34.8</td></tr>\n",
       "<tr><td>United Kingdom</td><td>536381</td><td>198</td><td>449.97999999999996</td></tr>\n",
       "<tr><td>United Kingdom</td><td>536382</td><td>134</td><td>430.59999999999997</td></tr>\n",
       "<tr><td>United Kingdom</td><td>536384</td><td>190</td><td>489.6</td></tr>\n",
       "<tr><td>United Kingdom</td><td>536385</td><td>53</td><td>130.85</td></tr>\n",
       "<tr><td>United Kingdom</td><td>536386</td><td>236</td><td>508.20000000000005</td></tr>\n",
       "<tr><td>United Kingdom</td><td>536387</td><td>1440</td><td>3193.92</td></tr>\n",
       "<tr><td>United Kingdom</td><td>536388</td><td>108</td><td>226.14</td></tr>\n",
       "<tr><td>Australia</td><td>536389</td><td>107</td><td>358.25</td></tr>\n",
       "<tr><td>United Kingdom</td><td>536390</td><td>1568</td><td>1825.74</td></tr>\n",
       "<tr><td>United Kingdom</td><td>536392</td><td>103</td><td>318.14000000000004</td></tr>\n",
       "<tr><td>United Kingdom</td><td>536393</td><td>8</td><td>79.6</td></tr>\n",
       "<tr><td>United Kingdom</td><td>536394</td><td>544</td><td>1024.6800000000003</td></tr>\n",
       "<tr><td>United Kingdom</td><td>536395</td><td>260</td><td>507.8800000000001</td></tr>\n",
       "<tr><td>United Kingdom</td><td>536396</td><td>102</td><td>376.36000000000007</td></tr>\n",
       "<tr><td>United Kingdom</td><td>536397</td><td>60</td><td>279.0</td></tr>\n",
       "<tr><td>United Kingdom</td><td>536398</td><td>150</td><td>426.56000000000006</td></tr>\n",
       "<tr><td>United Kingdom</td><td>536399</td><td>12</td><td>22.200000000000003</td></tr>\n",
       "<tr><td>United Kingdom</td><td>536400</td><td>12</td><td>17.4</td></tr>\n",
       "</table>\n",
       "only showing top 20 rows\n"
      ],
      "text/plain": [
       "+--------------+---------+--------------+------------------+\n",
       "|       country|InvoiceNo|total_quantity|     invoice_value|\n",
       "+--------------+---------+--------------+------------------+\n",
       "|United Kingdom|   536378|           242|192.78000000000003|\n",
       "|United Kingdom|   536380|            24|              34.8|\n",
       "|United Kingdom|   536381|           198|449.97999999999996|\n",
       "|United Kingdom|   536382|           134|430.59999999999997|\n",
       "|United Kingdom|   536384|           190|             489.6|\n",
       "|United Kingdom|   536385|            53|            130.85|\n",
       "|United Kingdom|   536386|           236|508.20000000000005|\n",
       "|United Kingdom|   536387|          1440|           3193.92|\n",
       "|United Kingdom|   536388|           108|            226.14|\n",
       "|     Australia|   536389|           107|            358.25|\n",
       "|United Kingdom|   536390|          1568|           1825.74|\n",
       "|United Kingdom|   536392|           103|318.14000000000004|\n",
       "|United Kingdom|   536393|             8|              79.6|\n",
       "|United Kingdom|   536394|           544|1024.6800000000003|\n",
       "|United Kingdom|   536395|           260| 507.8800000000001|\n",
       "|United Kingdom|   536396|           102|376.36000000000007|\n",
       "|United Kingdom|   536397|            60|             279.0|\n",
       "|United Kingdom|   536398|           150|426.56000000000006|\n",
       "|United Kingdom|   536399|            12|22.200000000000003|\n",
       "|United Kingdom|   536400|            12|              17.4|\n",
       "+--------------+---------+--------------+------------------+\n",
       "only showing top 20 rows"
      ]
     },
     "execution_count": 37,
     "metadata": {},
     "output_type": "execute_result"
    }
   ],
   "source": [
    "summary_df"
   ]
  },
  {
   "cell_type": "code",
   "execution_count": 38,
   "id": "4fc8b04c",
   "metadata": {},
   "outputs": [],
   "source": [
    "## somehow programmatic approach\n",
    "\n",
    "summary_df1 = orders_df .groupBy(\"country\",\"invoiceno\").agg(expr(\"sum(quantity) as total_quantity\"),expr(\"sum(quantity * unitprice) as invoice_value\")).sort(\"invoiceno\")"
   ]
  },
  {
   "cell_type": "code",
   "execution_count": 39,
   "id": "987370bf",
   "metadata": {},
   "outputs": [
    {
     "data": {
      "text/html": [
       "<table border='1'>\n",
       "<tr><th>country</th><th>invoiceno</th><th>total_quantity</th><th>invoice_value</th></tr>\n",
       "<tr><td>United Kingdom</td><td>536378</td><td>242</td><td>192.78000000000003</td></tr>\n",
       "<tr><td>United Kingdom</td><td>536380</td><td>24</td><td>34.8</td></tr>\n",
       "<tr><td>United Kingdom</td><td>536381</td><td>198</td><td>449.97999999999996</td></tr>\n",
       "<tr><td>United Kingdom</td><td>536382</td><td>134</td><td>430.59999999999997</td></tr>\n",
       "<tr><td>United Kingdom</td><td>536384</td><td>190</td><td>489.6</td></tr>\n",
       "<tr><td>United Kingdom</td><td>536385</td><td>53</td><td>130.85</td></tr>\n",
       "<tr><td>United Kingdom</td><td>536386</td><td>236</td><td>508.20000000000005</td></tr>\n",
       "<tr><td>United Kingdom</td><td>536387</td><td>1440</td><td>3193.92</td></tr>\n",
       "<tr><td>United Kingdom</td><td>536388</td><td>108</td><td>226.14</td></tr>\n",
       "<tr><td>Australia</td><td>536389</td><td>107</td><td>358.25</td></tr>\n",
       "<tr><td>United Kingdom</td><td>536390</td><td>1568</td><td>1825.74</td></tr>\n",
       "<tr><td>United Kingdom</td><td>536392</td><td>103</td><td>318.14000000000004</td></tr>\n",
       "<tr><td>United Kingdom</td><td>536393</td><td>8</td><td>79.6</td></tr>\n",
       "<tr><td>United Kingdom</td><td>536394</td><td>544</td><td>1024.6800000000003</td></tr>\n",
       "<tr><td>United Kingdom</td><td>536395</td><td>260</td><td>507.8800000000001</td></tr>\n",
       "<tr><td>United Kingdom</td><td>536396</td><td>102</td><td>376.36000000000007</td></tr>\n",
       "<tr><td>United Kingdom</td><td>536397</td><td>60</td><td>279.0</td></tr>\n",
       "<tr><td>United Kingdom</td><td>536398</td><td>150</td><td>426.56000000000006</td></tr>\n",
       "<tr><td>United Kingdom</td><td>536399</td><td>12</td><td>22.200000000000003</td></tr>\n",
       "<tr><td>United Kingdom</td><td>536400</td><td>12</td><td>17.4</td></tr>\n",
       "</table>\n",
       "only showing top 20 rows\n"
      ],
      "text/plain": [
       "+--------------+---------+--------------+------------------+\n",
       "|       country|invoiceno|total_quantity|     invoice_value|\n",
       "+--------------+---------+--------------+------------------+\n",
       "|United Kingdom|   536378|           242|192.78000000000003|\n",
       "|United Kingdom|   536380|            24|              34.8|\n",
       "|United Kingdom|   536381|           198|449.97999999999996|\n",
       "|United Kingdom|   536382|           134|430.59999999999997|\n",
       "|United Kingdom|   536384|           190|             489.6|\n",
       "|United Kingdom|   536385|            53|            130.85|\n",
       "|United Kingdom|   536386|           236|508.20000000000005|\n",
       "|United Kingdom|   536387|          1440|           3193.92|\n",
       "|United Kingdom|   536388|           108|            226.14|\n",
       "|     Australia|   536389|           107|            358.25|\n",
       "|United Kingdom|   536390|          1568|           1825.74|\n",
       "|United Kingdom|   536392|           103|318.14000000000004|\n",
       "|United Kingdom|   536393|             8|              79.6|\n",
       "|United Kingdom|   536394|           544|1024.6800000000003|\n",
       "|United Kingdom|   536395|           260| 507.8800000000001|\n",
       "|United Kingdom|   536396|           102|376.36000000000007|\n",
       "|United Kingdom|   536397|            60|             279.0|\n",
       "|United Kingdom|   536398|           150|426.56000000000006|\n",
       "|United Kingdom|   536399|            12|22.200000000000003|\n",
       "|United Kingdom|   536400|            12|              17.4|\n",
       "+--------------+---------+--------------+------------------+\n",
       "only showing top 20 rows"
      ]
     },
     "execution_count": 39,
     "metadata": {},
     "output_type": "execute_result"
    }
   ],
   "source": [
    "summary_df1"
   ]
  },
  {
   "cell_type": "code",
   "execution_count": 40,
   "id": "8297046a",
   "metadata": {},
   "outputs": [],
   "source": [
    "orders_df.createOrReplaceTempView(\"orders\")"
   ]
  },
  {
   "cell_type": "code",
   "execution_count": 47,
   "id": "7c8aa4d1",
   "metadata": {},
   "outputs": [
    {
     "name": "stdout",
     "output_type": "stream",
     "text": [
      "+--------------+---------+--------------+------------------+\n",
      "|       country|invoiceno|total_quantity|     invoice_value|\n",
      "+--------------+---------+--------------+------------------+\n",
      "|United Kingdom|   536378|           242|192.78000000000003|\n",
      "|United Kingdom|   536380|            24|              34.8|\n",
      "|United Kingdom|   536381|           198|449.97999999999996|\n",
      "|United Kingdom|   536382|           134|430.59999999999997|\n",
      "|United Kingdom|   536384|           190|             489.6|\n",
      "|United Kingdom|   536385|            53|            130.85|\n",
      "|United Kingdom|   536386|           236|508.20000000000005|\n",
      "|United Kingdom|   536387|          1440|           3193.92|\n",
      "|United Kingdom|   536388|           108|            226.14|\n",
      "|     Australia|   536389|           107|            358.25|\n",
      "|United Kingdom|   536390|          1568|           1825.74|\n",
      "|United Kingdom|   536392|           103|318.14000000000004|\n",
      "|United Kingdom|   536393|             8|              79.6|\n",
      "|United Kingdom|   536394|           544|1024.6800000000003|\n",
      "|United Kingdom|   536395|           260| 507.8800000000001|\n",
      "|United Kingdom|   536396|           102|376.36000000000007|\n",
      "|United Kingdom|   536397|            60|             279.0|\n",
      "|United Kingdom|   536398|           150|426.56000000000006|\n",
      "|United Kingdom|   536399|            12|22.200000000000003|\n",
      "|United Kingdom|   536400|            12|              17.4|\n",
      "+--------------+---------+--------------+------------------+\n",
      "only showing top 20 rows\n",
      "\n"
     ]
    }
   ],
   "source": [
    "\n",
    "spark.sql(\"\"\"\n",
    "select country, invoiceno, sum(quantity) as total_quantity, sum(quantity * unitprice) as invoice_value from orders group by country, invoiceno order by invoiceno\n",
    "\"\"\").show()"
   ]
  },
  {
   "cell_type": "code",
   "execution_count": null,
   "id": "5c2e2d44",
   "metadata": {},
   "outputs": [],
   "source": []
  },
  {
   "cell_type": "code",
   "execution_count": null,
   "id": "b0b3b6d0",
   "metadata": {},
   "outputs": [],
   "source": []
  },
  {
   "cell_type": "code",
   "execution_count": 28,
   "id": "c08df07e",
   "metadata": {},
   "outputs": [],
   "source": [
    "spark.stop()"
   ]
  },
  {
   "cell_type": "code",
   "execution_count": null,
   "id": "d66abb05",
   "metadata": {},
   "outputs": [],
   "source": []
  }
 ],
 "metadata": {
  "kernelspec": {
   "display_name": "Pyspark 3",
   "language": "python",
   "name": "pyspark3"
  },
  "language_info": {
   "codemirror_mode": {
    "name": "ipython",
    "version": 3
   },
   "file_extension": ".py",
   "mimetype": "text/x-python",
   "name": "python",
   "nbconvert_exporter": "python",
   "pygments_lexer": "ipython3",
   "version": "3.6.12"
  }
 },
 "nbformat": 4,
 "nbformat_minor": 5
}
